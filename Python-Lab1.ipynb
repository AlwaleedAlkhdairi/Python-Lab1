{
 "cells": [
  {
   "cell_type": "markdown",
   "id": "8c76eebb",
   "metadata": {},
   "source": [
    "# Alwaleed Alkhdairi\n",
    "## Lab 1 \n",
    "- **Python**"
   ]
  },
  {
   "cell_type": "code",
   "execution_count": 39,
   "id": "0c3e9ca2",
   "metadata": {},
   "outputs": [],
   "source": [
    "Var = \"Winter\"\n",
    "x = 4\n",
    "y = 4.5\n",
    "num_apples = num_bananas = num_oranges = 10\n",
    "X,Y,Z = 10,9,8"
   ]
  },
  {
   "cell_type": "code",
   "execution_count": 49,
   "id": "9eefa6f7",
   "metadata": {},
   "outputs": [
    {
     "name": "stdout",
     "output_type": "stream",
     "text": [
      "My favorite season is Winter \n",
      "X is integer 4 y is float 4.5 \n",
      " \n",
      "One Value to Multiple Variables : num_apples,num_bananas,num_oranges = 10 \n",
      " \n",
      "Many Values to Multiple Variables X,Y,Z (10,9,8) \n"
     ]
    }
   ],
   "source": [
    "print(\"\"\"My favorite season is {} \\nX is integer {} y is float {} \\n \n",
    "One Value to Multiple Variables : num_apples,num_bananas,num_oranges = {} \\n \n",
    "Many Values to Multiple Variables X,Y,Z ({},{},{}) \"\"\".format(Var,x,y,num_apples,X,Y,Z))"
   ]
  }
 ],
 "metadata": {
  "kernelspec": {
   "display_name": "Python 3 (ipykernel)",
   "language": "python",
   "name": "python3"
  },
  "language_info": {
   "codemirror_mode": {
    "name": "ipython",
    "version": 3
   },
   "file_extension": ".py",
   "mimetype": "text/x-python",
   "name": "python",
   "nbconvert_exporter": "python",
   "pygments_lexer": "ipython3",
   "version": "3.9.13"
  }
 },
 "nbformat": 4,
 "nbformat_minor": 5
}
